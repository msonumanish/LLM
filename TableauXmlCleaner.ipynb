{
 "cells": [
  {
   "cell_type": "code",
   "execution_count": 32,
   "id": "a0ba7d37-bba2-4267-b108-4231d62114c6",
   "metadata": {},
   "outputs": [],
   "source": [
    "from lxml import etree\n",
    "\n",
    "def clean_xml(xml_file: str, output_file: str):\n",
    "    \"\"\"\n",
    "    Clean a Tableau workbook XML (TWB).\n",
    "    Removes thumbnails, embedded images, filter values, and extracts.\n",
    "    Saves cleaned XML to output_file.\n",
    "    \"\"\"\n",
    "    parser = etree.XMLParser(\n",
    "        remove_blank_text=True,\n",
    "        recover=True,\n",
    "        encoding=\"utf-8\",\n",
    "        strip_cdata=True\n",
    "    )\n",
    "    tree = etree.parse(xml_file, parser)\n",
    "    root = tree.getroot()\n",
    "\n",
    "    # 1. Remove thumbnails\n",
    "    for elem in root.findall(\".//thumbnail\"):\n",
    "        parent = elem.getparent()\n",
    "        if parent is not None:\n",
    "            parent.remove(elem)\n",
    "\n",
    "    # 2. Remove embedded images\n",
    "    for elem in root.findall(\".//image\"):\n",
    "        parent = elem.getparent()\n",
    "        if parent is not None:\n",
    "            parent.remove(elem)\n",
    "\n",
    "    # 3. Remove filter values\n",
    "    for filter_elem in root.findall(\".//filter\"):\n",
    "        for value_elem in filter_elem.findall(\".//value\"):\n",
    "            parent = value_elem.getparent()\n",
    "            if parent is not None:\n",
    "                parent.remove(value_elem)\n",
    "\n",
    "    # 4. Remove extracts\n",
    "    for elem in root.findall(\".//extract\"):\n",
    "        parent = elem.getparent()\n",
    "        if parent is not None:\n",
    "            parent.remove(elem)\n",
    "\n",
    "    # Save cleaned XML\n",
    "    tree.write(output_file, pretty_print=True, encoding=\"utf-8\", xml_declaration=True)\n",
    "    print(f\"✅ Cleaned XML saved to {output_file}\")\n"
   ]
  },
  {
   "cell_type": "code",
   "execution_count": 36,
   "id": "caf5037a-c34c-45fe-957e-0d24a81ef117",
   "metadata": {},
   "outputs": [],
   "source": [
    "orignal_file = os.getcwd()+'/tableau.twb'\n",
    "clean_file = os.getcwd()+'/tableau_cleaned.twb'"
   ]
  },
  {
   "cell_type": "code",
   "execution_count": 35,
   "id": "5ba4e041-4e28-4acd-91c3-7a7af987d725",
   "metadata": {},
   "outputs": [
    {
     "data": {
      "text/plain": [
       "'/Users/mj/Documents/udemy_llm/projects/llm_engineering/week2/TableauGenAI/tableau.twb'"
      ]
     },
     "execution_count": 35,
     "metadata": {},
     "output_type": "execute_result"
    }
   ],
   "source": [
    "orignal_file"
   ]
  },
  {
   "cell_type": "code",
   "execution_count": 37,
   "id": "f5c3b8c3-c666-4abd-b72b-c49c2805c24a",
   "metadata": {},
   "outputs": [
    {
     "name": "stdout",
     "output_type": "stream",
     "text": [
      "✅ Cleaned XML saved to /Users/mj/Documents/udemy_llm/projects/llm_engineering/week2/TableauGenAI/tableau_cleaned.twb\n"
     ]
    }
   ],
   "source": [
    "clean_xml(orignal_file,clean_file)"
   ]
  },
  {
   "cell_type": "code",
   "execution_count": 44,
   "id": "895daa50-fa61-4923-ae34-1724d9f24107",
   "metadata": {},
   "outputs": [],
   "source": [
    "import xml.etree.ElementTree as ET\n",
    "\n",
    "def clean_xml(twb_file, output_file):\n",
    "    \"\"\"\n",
    "    Clean Tableau TWB XML:\n",
    "    - Remove unnecessary tags like thumbnails, embedded images, styles, formatting, window info\n",
    "    - Strip workbook-level customizations not needed for metadata extraction\n",
    "    \"\"\"\n",
    "    parser = ET.XMLParser(encoding=\"utf-8\")\n",
    "    tree = ET.parse(twb_file, parser=parser)\n",
    "    root = tree.getroot()\n",
    "\n",
    "    # Tags commonly safe to remove\n",
    "    remove_tags = [\n",
    "        \"style\",                # XML styling\n",
    "        \"window\",               # window definitions\n",
    "        \"window-info\",          # Tableau window info\n",
    "        \"repository-location\",  # repository paths\n",
    "        \"color-palette\",        # UI colors\n",
    "        \"color\",                # UI colors\n",
    "        \"format\",               # visual formatting\n",
    "        \"annotation\",           # user annotations\n",
    "        \"thumbnails\",           # preview thumbnails\n",
    "        \"thumbnail\",            # embedded thumbnail images\n",
    "        \"formatted-text\",       # text formatting\n",
    "        \"repository-url\",       # repository links\n",
    "        \"custom-views\",         # personalized views\n",
    "        \"user\",                 # user personalization info\n",
    "        \"metadata-record\",      # internal metadata cache\n",
    "        \"image\",                # embedded images\n",
    "        \"picture\",              # embedded pictures\n",
    "        \"graphic\",              # UI graphics\n",
    "        \"map-source\",           # Tableau maps\n",
    "        \"map\",                  # map layers\n",
    "        \"bin\"                   # bin\n",
    "    ]\n",
    "\n",
    "    # Remove all specified tags\n",
    "    for tag in remove_tags:\n",
    "        for elem in root.findall(f\".//{tag}\"):\n",
    "            parent = elem.getparent() if hasattr(elem, \"getparent\") else None\n",
    "            if parent is not None:\n",
    "                parent.remove(elem)\n",
    "\n",
    "    # Also remove attributes that may carry noise (style, formatting)\n",
    "    noisy_attributes = [\"style\", \"color\", \"font\", \"caption\", \"alias\"]\n",
    "    for elem in root.iter():\n",
    "        for noisy_attr in noisy_attributes:\n",
    "            if noisy_attr in elem.attrib:\n",
    "                elem.attrib.pop(noisy_attr, None)\n",
    "\n",
    "    # Write cleaned XML\n",
    "    tree.write(output_file, encoding=\"utf-8\", xml_declaration=True)\n",
    "    print(f\"Cleaned XML written to {output_file}\")\n"
   ]
  },
  {
   "cell_type": "code",
   "execution_count": 45,
   "id": "4de1f71a-2778-4440-b99b-fa030e162230",
   "metadata": {},
   "outputs": [],
   "source": [
    "clean_file = os.getcwd()+'/tableau_cleaned_1.twb'"
   ]
  },
  {
   "cell_type": "code",
   "execution_count": 46,
   "id": "5b1739f1-f260-48f2-b6f8-facfd006d15a",
   "metadata": {},
   "outputs": [
    {
     "name": "stdout",
     "output_type": "stream",
     "text": [
      "Cleaned XML written to /Users/mj/Documents/udemy_llm/projects/llm_engineering/week2/TableauGenAI/tableau_cleaned_1.twb\n"
     ]
    }
   ],
   "source": [
    "clean_xml(orignal_file,clean_file)"
   ]
  },
  {
   "cell_type": "code",
   "execution_count": 53,
   "id": "8b12470a-cadf-4ad3-a259-b9ad97cf067e",
   "metadata": {},
   "outputs": [],
   "source": [
    "from lxml import etree\n",
    "\n",
    "# Tags to remove completely (no business meaning)\n",
    "REMOVE_TAGS = {\n",
    "    \"style\", \"window\", \"format\", \"page\", \"style-rule\", \"drill-path\",\n",
    "    \"conditional-format\", \"style-map\", \"groupfilter\", \"filter-values\",\n",
    "    \"map-style\", \"bin\", \"color-palette\", \"thumbnail\", \"color\", \"legend\",\n",
    "    \"aliases\", \"presentation\", \"viewpoint\", \"value\"  # ensure <value> inside <bin> also removed\n",
    "}\n",
    "\n",
    "# Attributes to strip\n",
    "REMOVE_ATTRS = {\n",
    "    \"caption\", \"width\", \"height\", \"color\", \"size\", \"alias\", \"thumbnail\",\n",
    "    \"format\", \"style\", \"pane\", \"table\", \"zone\", \"x\", \"y\", \"z\",\n",
    "    \"color-palette-name\", \"worksheet-position\"\n",
    "}\n",
    "\n",
    "def clean_tableau_xml(input_file: str, output_file: str):\n",
    "    parser = etree.XMLParser(remove_blank_text=True, recover=True)\n",
    "    \n",
    "    # Parse input XML\n",
    "    tree = etree.parse(input_file, parser)\n",
    "    root = tree.getroot()\n",
    "\n",
    "    # Remove unwanted tags (and their children)\n",
    "    for tag in REMOVE_TAGS:\n",
    "        for elem in root.findall(f\".//{tag}\"):\n",
    "            parent = elem.getparent()\n",
    "            if parent is not None:\n",
    "                parent.remove(elem)\n",
    "\n",
    "    # Remove unwanted attributes\n",
    "    for elem in root.iter():\n",
    "        for attr in list(elem.attrib.keys()):\n",
    "            if attr in REMOVE_ATTRS:\n",
    "                del elem.attrib[attr]\n",
    "\n",
    "    # Strip CDATA content\n",
    "    for elem in root.iter():\n",
    "        if elem.text and \"<![CDATA[\" in elem.text:\n",
    "            elem.text = \"\"  # remove CDATA content\n",
    "\n",
    "    # Write cleaned XML to file\n",
    "    tree.write(output_file, pretty_print=True, encoding=\"utf-8\", xml_declaration=True)\n",
    "\n",
    "    print(f\"✅ Cleaned XML written to {output_file}\")\n"
   ]
  },
  {
   "cell_type": "code",
   "execution_count": 59,
   "id": "d4d88b49-287d-4834-9798-eb56cee60f24",
   "metadata": {},
   "outputs": [
    {
     "name": "stdout",
     "output_type": "stream",
     "text": [
      "✅ Cleaned XML written to /Users/mj/Documents/udemy_llm/projects/llm_engineering/week2/TableauGenAI/tableau_cleaned_1.twb\n"
     ]
    }
   ],
   "source": [
    "clean_tableau_xml(orignal_file,clean_file)"
   ]
  },
  {
   "cell_type": "code",
   "execution_count": 77,
   "id": "05637576-04b1-46c6-9f28-94949b99de4c",
   "metadata": {},
   "outputs": [],
   "source": [
    "from lxml import etree\n",
    "\n",
    "# Tags to remove completely (no business meaning)\n",
    "REMOVE_TAGS = {\n",
    "    \"style\", \"window\", \"format\", \"page\", \"style-rule\", \"drill-path\",\n",
    "    \"conditional-format\", \"style-map\", \"groupfilter\", \"filter-values\",\n",
    "    \"map-style\", \"bin\", \"color-palette\", \"thumbnail\", \"color\", \"legend\",\n",
    "    \"aliases\", \"presentation\", \"viewpoint\", \"value\",\n",
    "    \"panes\", \"pane\", \"view\", \"mark\", \"encodings\",\n",
    "    \"customized-label\", \"formatted-text\", \"run\", \"breakdown\"\n",
    "}\n",
    "\n",
    "\n",
    "# Attributes to strip\n",
    "REMOVE_ATTRS = {\n",
    "    \"caption\", \"width\", \"height\", \"color\", \"size\", \"alias\", \"thumbnail\",\n",
    "    \"format\", \"style\", \"pane\", \"table\", \"zone\", \"x\", \"y\", \"z\",\n",
    "    \"color-palette-name\", \"worksheet-position\"\n",
    "}\n",
    "\n",
    "def clean_tableau_xml(input_file: str, output_file: str):\n",
    "    parser = etree.XMLParser(remove_blank_text=True, recover=True)\n",
    "    \n",
    "    # Parse input XML\n",
    "    tree = etree.parse(input_file, parser)\n",
    "    root = tree.getroot()\n",
    "\n",
    "    # Remove unwanted tags (namespace independent)\n",
    "    for tag in REMOVE_TAGS:\n",
    "        for elem in root.xpath(f\".//*[local-name()='{tag}']\"):\n",
    "            parent = elem.getparent()\n",
    "            if parent is not None:\n",
    "                parent.remove(elem)\n",
    "\n",
    "    # Remove unwanted attributes\n",
    "    for elem in root.iter():\n",
    "        for attr in list(elem.attrib.keys()):\n",
    "            if attr in REMOVE_ATTRS:\n",
    "                del elem.attrib[attr]\n",
    "\n",
    "    # Strip CDATA content\n",
    "    for elem in root.iter():\n",
    "        if elem.text and \"<![CDATA[\" in elem.text:\n",
    "            elem.text = \"\"  # remove CDATA content\n",
    "\n",
    "    # Write cleaned XML to file\n",
    "    tree.write(output_file, pretty_print=True, encoding=\"utf-8\", xml_declaration=True)\n",
    "\n",
    "    print(f\"✅ Cleaned XML written to {output_file}\")\n"
   ]
  },
  {
   "cell_type": "code",
   "execution_count": 78,
   "id": "7160ca44-f962-4f7b-9612-28922edbc1c5",
   "metadata": {},
   "outputs": [],
   "source": [
    "clean_file = os.getcwd()+'/tableau_cleaned_2.twb'"
   ]
  },
  {
   "cell_type": "code",
   "execution_count": 79,
   "id": "714902cd-ee0d-4be5-9eeb-28f5ef6527b8",
   "metadata": {},
   "outputs": [
    {
     "name": "stdout",
     "output_type": "stream",
     "text": [
      "✅ Cleaned XML written to /Users/mj/Documents/udemy_llm/projects/llm_engineering/week2/TableauGenAI/tableau_cleaned_2.twb\n"
     ]
    }
   ],
   "source": [
    "clean_tableau_xml(orignal_file,clean_file)"
   ]
  },
  {
   "cell_type": "code",
   "execution_count": null,
   "id": "e083ca1d-2367-4945-a37a-490ec9a3887d",
   "metadata": {},
   "outputs": [],
   "source": []
  }
 ],
 "metadata": {
  "kernelspec": {
   "display_name": "Python 3 (ipykernel)",
   "language": "python",
   "name": "python3"
  },
  "language_info": {
   "codemirror_mode": {
    "name": "ipython",
    "version": 3
   },
   "file_extension": ".py",
   "mimetype": "text/x-python",
   "name": "python",
   "nbconvert_exporter": "python",
   "pygments_lexer": "ipython3",
   "version": "3.11.13"
  }
 },
 "nbformat": 4,
 "nbformat_minor": 5
}
